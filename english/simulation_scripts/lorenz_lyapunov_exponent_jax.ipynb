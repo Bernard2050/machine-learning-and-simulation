{
 "cells": [
  {
   "cell_type": "markdown",
   "metadata": {},
   "source": [
    "# Approximating the largest Lyapunov exponent of the Lorenz system using JAX's autodiff\n",
    "\n",
    "The Lorenz equations are a prototypical example of **deterministic chaos**. They\n",
    "are a system of three **nonlinear** ODEs\n",
    "\n",
    "$$\n",
    "\\begin{aligned}\n",
    "\\frac{dx}{dt} &= \\sigma(y - x), \\\\\n",
    "\\frac{dy}{dt} &= x(\\rho - z) - y, \\\\\n",
    "\\frac{dz}{dt} &= xy - \\beta z.\n",
    "\\end{aligned}\n",
    "$$\n",
    "\n",
    "The three variables can be combined into the state vector $u = (x, y, z) \\in\n",
    "\\mathbb{R}^3$. Assume we have an initial condition $u(0)$ and another one\n",
    "slightly next to it $\\tilde{u}(0)$. Hence, their difference is $\\delta u(0) =\n",
    "\\tilde{u}(0) - u(0)$. The maximum Lyapunov exponent $\\lambda$ describes how\n",
    "(exponentially) quickly the two trajectories diverge\n",
    "\n",
    "$$\n",
    "\\| \\delta u(t) \\| \\approx \\| \\delta u(0) \\| \\exp(\\lambda t).\n",
    "$$\n",
    "\n",
    "In this notebook, we will approximate $\\lambda$ for the Lorenz system under the\n",
    "original configuration $\\sigma = 10$, $\\rho = 28$ and $\\beta = 8/3$ (1) using a\n",
    "[Runge-Kutta 4\n",
    "simulator](https://github.com/Ceyron/machine-learning-and-simulation/blob/main/english/simulation_scripts/lorenz_simulator_numpy.ipynb)\n",
    "of time step size $\\Delta t = 0.01$. Let's call the discrete time stepper\n",
    "$\\mathcal{P}$ that advances from one time level $u^{[t]}$ to the next\n",
    "$u^{[t+1]}$. Then, we can approximate the largest Lyapunov exponent $\\lambda$\n",
    "by\n",
    "\n",
    "$$\n",
    "\\lambda \\approx \\frac{1}{T} \\sum_{t=0}^{T-1} \\log \\frac{\\|\\epsilon^{[t+1]}\\|_2}{\\|\\epsilon^{[t]}\\|_2},\n",
    "$$\n",
    "\n",
    "in which $\\epsilon^{[t]}$ is a perturbation that is integrated alongside the\n",
    "original trajectory and evolves using the system's Jacobian matrix\n",
    "\n",
    "$$\n",
    "\\frac{d\\epsilon}{dt} = J(u) \\epsilon.\n",
    "$$\n",
    "\n",
    "Leading to the following strategy:\n",
    "\n",
    "1. Draw a reasonable initial condition, e.g. $u^{[0]} = (1, 1, 1)$.\n",
    "2. Evolve the initial condition until it enters the chaotic attractor, e.g., by\n",
    "   using $5000$ time steps to get $u^{[5000]}$.\n",
    "3. Use the last state $u^{[5000]}$ as the \"warmed-up\" initial state $u^{[0]}\n",
    "   \\leftarrow u^{[5000]}$.\n",
    "4. Introduce a small perturbation $\\epsilon^{[0]}$, e.g., using random normal\n",
    "   noise with $\\epsilon_i \\propto \\mathcal{N}(0, 1)$, and normalize it to get\n",
    "   $\\epsilon^{[0]} \\leftarrow \\epsilon^{[0]}/\\|\\epsilon^{[0]}\\|_2$.\n",
    "5. Evolve $u^{[t]}$ via the Runge-Kutta 4 stepper $u^{[t+1]} =\n",
    "   \\mathcal{P}(u^{[t]})$. At the same time, at each time step $t$, compute the\n",
    "   Jacobian of the time stepper evaluated at the current state\n",
    "   $J_\\mathcal{P}(u^{[t]})$. Then, evolve the perturbation $\\epsilon^{[t]}$ via\n",
    "   the $\\epsilon^{[t+1]} = J_\\mathcal{P}(u^{[t]}) \\epsilon^{[t]}$. Re-normalize\n",
    "   $\\epsilon^{[t+1]} \\leftarrow \\epsilon^{[t+1]}/\\|\\epsilon^{[t+1]}\\|_2$\n",
    "   afterwards. (*)\n",
    "6. Do this for a certain number of time steps, e.g. $50000$, and record the\n",
    "   growth in the perturbation's norm $\\|\\epsilon^{[t]}\\|_2$.\n",
    "7. Approximate the Lyapunov exponent $\\lambda$ using the formula above.\n",
    "\n",
    "(*) Instead of instantiating the full (and oftentimes dense) Jacobian matrix\n",
    "$J_\\mathcal{P}(u^{[t]})$ at each time step, we can also employ a simple\n",
    "Jacobian-Vector product via `jax.jvp`.\n",
    "\n",
    "---\n",
    "\n",
    "(1) E. N. Lorenz, \"Deterministic Nonperiodic Flow\", Journal of the Atmospheric\n",
    "Sciences, 1963,\n",
    "https://journals.ametsoc.org/view/journals/atsc/20/2/1520-0469_1963_020_0130_dnf_2_0_co_2.xml"
   ]
  },
  {
   "cell_type": "code",
   "execution_count": 1,
   "metadata": {},
   "outputs": [],
   "source": [
    "import jax\n",
    "import jax.numpy as jnp\n",
    "import matplotlib.pyplot as plt"
   ]
  },
  {
   "cell_type": "code",
   "execution_count": 2,
   "metadata": {},
   "outputs": [],
   "source": [
    "# jax.config.update(\"jax_enable_x64\", True)"
   ]
  },
  {
   "cell_type": "code",
   "execution_count": 3,
   "metadata": {},
   "outputs": [],
   "source": [
    "def lorenz_rhs(u, *, sigma, rho, beta):\n",
    "    x, y, z = u\n",
    "    x_dot = sigma * (y - x)\n",
    "    y_dot = x * (rho - z) - y\n",
    "    z_dot = x * y - beta * z\n",
    "    u_dot = jnp.array([x_dot, y_dot, z_dot])\n",
    "    return u_dot"
   ]
  },
  {
   "cell_type": "code",
   "execution_count": 4,
   "metadata": {},
   "outputs": [],
   "source": [
    "class LorenzStepperRK4:\n",
    "    def __init__(self, dt=0.01, *, sigma=10, rho=28, beta=8/3):\n",
    "        self.dt = dt\n",
    "        self.sigma = sigma\n",
    "        self.rho = rho\n",
    "        self.beta = beta\n",
    "    \n",
    "    def __call__(self, u_prev):\n",
    "        lorenz_rhs_fixed = lambda u: lorenz_rhs(\n",
    "            u,\n",
    "            sigma=self.sigma,\n",
    "            rho=self.rho,\n",
    "            beta=self.beta,\n",
    "        )\n",
    "        k_1 = lorenz_rhs_fixed(u_prev)\n",
    "        k_2 = lorenz_rhs_fixed(u_prev + 0.5 * self.dt * k_1)\n",
    "        k_3 = lorenz_rhs_fixed(u_prev + 0.5 * self.dt * k_2)\n",
    "        k_4 = lorenz_rhs_fixed(u_prev + self.dt * k_3)\n",
    "        u_next = u_prev + self.dt * (k_1 + 2*k_2 + 2*k_3 + k_4)/6\n",
    "        return u_next"
   ]
  },
  {
   "cell_type": "code",
   "execution_count": 5,
   "metadata": {},
   "outputs": [],
   "source": [
    "lorenz_stepper = LorenzStepperRK4()"
   ]
  },
  {
   "cell_type": "code",
   "execution_count": 6,
   "metadata": {},
   "outputs": [],
   "source": [
    "u_0 = jnp.ones(3)"
   ]
  },
  {
   "cell_type": "code",
   "execution_count": 7,
   "metadata": {},
   "outputs": [
    {
     "data": {
      "text/plain": [
       "Array([1., 1., 1.], dtype=float32)"
      ]
     },
     "execution_count": 7,
     "metadata": {},
     "output_type": "execute_result"
    }
   ],
   "source": [
    "u_0"
   ]
  },
  {
   "cell_type": "code",
   "execution_count": 8,
   "metadata": {},
   "outputs": [
    {
     "data": {
      "text/plain": [
       "Array([1.0125672, 1.2599177, 0.984891 ], dtype=float32)"
      ]
     },
     "execution_count": 8,
     "metadata": {},
     "output_type": "execute_result"
    }
   ],
   "source": [
    "lorenz_stepper(u_0)"
   ]
  },
  {
   "cell_type": "code",
   "execution_count": 9,
   "metadata": {},
   "outputs": [],
   "source": [
    "def rollout(stepper, n, *, include_init: bool = False):\n",
    "    def scan_fn(u, _):\n",
    "        u_next = stepper(u)\n",
    "        return u_next, u_next\n",
    "\n",
    "    def rollout_fn(u_0):\n",
    "        _, trj = jax.lax.scan(scan_fn, u_0, None, length=n)\n",
    "\n",
    "        if include_init:\n",
    "            return jnp.concatenate([jnp.expand_dims(u_0, axis=0), trj], axis=0)\n",
    "\n",
    "        return trj\n",
    "\n",
    "    return rollout_fn"
   ]
  },
  {
   "cell_type": "code",
   "execution_count": 14,
   "metadata": {},
   "outputs": [],
   "source": [
    "def rollout_with_growth(stepper, n):\n",
    "    def scan_fn(carry, _):\n",
    "        u, eps = carry\n",
    "        # u_next = stepper(u)\n",
    "        # jac = jax.jacfwd(stepper)(u)\n",
    "        # eps_next = jac @ eps\n",
    "        u_next, eps_next = jax.jvp(stepper, (u,), (eps,))\n",
    "\n",
    "        growth = jnp.linalg.norm(eps_next)\n",
    "        eps_next_normalized = eps_next / growth\n",
    "\n",
    "        carry_next = (u_next, eps_next_normalized)\n",
    "\n",
    "        return carry_next, (u_next, growth)\n",
    "    \n",
    "    def rollout_with_growth_fn(u_0, eps_0):\n",
    "        initial_carry = (u_0, eps_0 / jnp.linalg.norm(eps_0))\n",
    "\n",
    "        _, (trj, growth_trj) = jax.lax.scan(scan_fn, initial_carry, None, length=n)\n",
    "\n",
    "        return trj, growth_trj\n",
    "    \n",
    "    return rollout_with_growth_fn"
   ]
  },
  {
   "cell_type": "code",
   "execution_count": 15,
   "metadata": {},
   "outputs": [],
   "source": [
    "u_0_warmed = rollout(lorenz_stepper, 5000)(u_0)[-1]"
   ]
  },
  {
   "cell_type": "code",
   "execution_count": 16,
   "metadata": {},
   "outputs": [
    {
     "data": {
      "text/plain": [
       "Array([-11.736563,  -4.546872,  37.751724], dtype=float32)"
      ]
     },
     "execution_count": 16,
     "metadata": {},
     "output_type": "execute_result"
    }
   ],
   "source": [
    "u_0_warmed"
   ]
  },
  {
   "cell_type": "code",
   "execution_count": 17,
   "metadata": {},
   "outputs": [],
   "source": [
    "warmed_trj, growth_trj = rollout_with_growth(\n",
    "    lorenz_stepper,\n",
    "    500_000,\n",
    ")(u_0_warmed, jax.random.normal(jax.random.PRNGKey(12), (3,)))"
   ]
  },
  {
   "cell_type": "code",
   "execution_count": 18,
   "metadata": {},
   "outputs": [
    {
     "data": {
      "text/plain": [
       "((500000, 3), (500000,))"
      ]
     },
     "execution_count": 18,
     "metadata": {},
     "output_type": "execute_result"
    }
   ],
   "source": [
    "warmed_trj.shape, growth_trj.shape"
   ]
  },
  {
   "cell_type": "code",
   "execution_count": 19,
   "metadata": {},
   "outputs": [
    {
     "data": {
      "text/plain": [
       "Array(0.9082885, dtype=float32)"
      ]
     },
     "execution_count": 19,
     "metadata": {},
     "output_type": "execute_result"
    }
   ],
   "source": [
    "lyapunov_approximation = jnp.mean(jnp.log(growth_trj)) / lorenz_stepper.dt\n",
    "lyapunov_approximation"
   ]
  },
  {
   "cell_type": "code",
   "execution_count": 20,
   "metadata": {},
   "outputs": [],
   "source": [
    "log_growth_trj = jnp.log(growth_trj)\n",
    "cummean_log_growth_trj = jnp.cumsum(log_growth_trj) / jnp.arange(1, len(log_growth_trj)+1)\n",
    "lyapunov_approximation_trj = cummean_log_growth_trj / lorenz_stepper.dt"
   ]
  },
  {
   "cell_type": "code",
   "execution_count": 21,
   "metadata": {},
   "outputs": [
    {
     "data": {
      "text/plain": [
       "Array([-5.916447  , -5.523846  , -5.129349  , ...,  0.90829945,\n",
       "        0.9082941 ,  0.9082885 ], dtype=float32)"
      ]
     },
     "execution_count": 21,
     "metadata": {},
     "output_type": "execute_result"
    }
   ],
   "source": [
    "lyapunov_approximation_trj"
   ]
  },
  {
   "cell_type": "code",
   "execution_count": 22,
   "metadata": {},
   "outputs": [
    {
     "data": {
      "text/plain": [
       "Text(0, 0.5, 'Approximate Lyap Exponent')"
      ]
     },
     "execution_count": 22,
     "metadata": {},
     "output_type": "execute_result"
    },
    {
     "data": {
      "image/png": "[encoded data removed]",
      "text/plain": [
       "<Figure size 640x480 with 1 Axes>"
      ]
     },
     "metadata": {},
     "output_type": "display_data"
    }
   ],
   "source": [
    "plt.plot(lyapunov_approximation_trj[2000:])\n",
    "plt.grid()\n",
    "plt.xlabel(\"time step\")\n",
    "plt.ylabel(\"Approximate Lyap Exponent\")"
   ]
  },
  {
   "cell_type": "code",
   "execution_count": 23,
   "metadata": {},
   "outputs": [],
   "source": [
    "TRUE_LYAPUNOV_EXPONENT = 0.9056\n",
    "diff = jnp.abs(lyapunov_approximation_trj - TRUE_LYAPUNOV_EXPONENT)"
   ]
  },
  {
   "cell_type": "code",
   "execution_count": 24,
   "metadata": {},
   "outputs": [
    {
     "data": {
      "text/plain": [
       "Text(0, 0.5, 'Absolute error from the true Lyap Exponent')"
      ]
     },
     "execution_count": 24,
     "metadata": {},
     "output_type": "execute_result"
    },
    {
     "data": {
      "image/png": "[encoded data removed]",
      "text/plain": [
       "<Figure size 640x480 with 1 Axes>"
      ]
     },
     "metadata": {},
     "output_type": "display_data"
    }
   ],
   "source": [
    "plt.semilogy(diff)\n",
    "plt.grid()\n",
    "plt.xlabel(\"time step\")\n",
    "plt.ylabel(\"Absolute error from the true Lyap Exponent\")"
   ]
  },
  {
   "cell_type": "code",
   "execution_count": null,
   "metadata": {},
   "outputs": [],
   "source": []
  }
 ],
 "metadata": {
  "kernelspec": {
   "display_name": "base",
   "language": "python",
   "name": "python3"
  },
  "language_info": {
   "codemirror_mode": {
    "name": "ipython",
    "version": 3
   },
   "file_extension": ".py",
   "mimetype": "text/x-python",
   "name": "python",
   "nbconvert_exporter": "python",
   "pygments_lexer": "ipython3",
   "version": "3.10.9"
  }
 },
 "nbformat": 4,
 "nbformat_minor": 2
}
